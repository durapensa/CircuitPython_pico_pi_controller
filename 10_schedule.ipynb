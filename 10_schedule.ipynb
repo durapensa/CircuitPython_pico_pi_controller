{
 "cells": [
  {
   "cell_type": "code",
   "execution_count": null,
   "id": "liable-prospect",
   "metadata": {},
   "outputs": [],
   "source": [
    "# default_exp schedule"
   ]
  },
  {
   "cell_type": "code",
   "execution_count": null,
   "id": "adult-vermont",
   "metadata": {},
   "outputs": [],
   "source": [
    "# export\n",
    "import uschedule as schedule"
   ]
  },
  {
   "cell_type": "code",
   "execution_count": null,
   "id": "breeding-insight",
   "metadata": {},
   "outputs": [],
   "source": []
  }
 ],
 "metadata": {
  "kernelspec": {
   "display_name": "Python 3",
   "language": "python",
   "name": "python3"
  }
 },
 "nbformat": 4,
 "nbformat_minor": 5
}
