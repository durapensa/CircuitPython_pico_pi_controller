{
 "cells": [
  {
   "cell_type": "code",
   "execution_count": null,
   "id": "liable-prospect",
   "metadata": {},
   "outputs": [],
   "source": [
    "# default_exp schedule"
   ]
  },
  {
   "cell_type": "markdown",
   "id": "executed-treatment",
   "metadata": {},
   "source": [
    "# CircuitPython_pico_pi_controller.schedule\n",
    "> Scheduling classes for `CircuitPython_pico_pi_controller` based on `uschedule`"
   ]
  },
  {
   "cell_type": "code",
   "execution_count": null,
   "id": "adult-vermont",
   "metadata": {},
   "outputs": [],
   "source": [
    "# export\n",
    "import uschedule as schedule"
   ]
  },
  {
   "cell_type": "code",
   "execution_count": null,
   "id": "breeding-insight",
   "metadata": {},
   "outputs": [],
   "source": []
  }
 ],
 "metadata": {
  "kernelspec": {
   "display_name": "Python 3",
   "language": "python",
   "name": "python3"
  }
 },
 "nbformat": 4,
 "nbformat_minor": 5
}
