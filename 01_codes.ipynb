{
 "cells": [
  {
   "cell_type": "code",
   "execution_count": null,
   "id": "binary-westminster",
   "metadata": {},
   "outputs": [],
   "source": [
    "# default_exp codes"
   ]
  },
  {
   "cell_type": "markdown",
   "id": "interracial-berlin",
   "metadata": {},
   "source": [
    "# CircuitPython_pico_pi_controller.codes\n",
    "> Codes requires for all PPC classes"
   ]
  },
  {
   "cell_type": "code",
   "execution_count": null,
   "id": "gentle-transport",
   "metadata": {},
   "outputs": [
    {
     "data": {
      "text/plain": [
       "\"Command cmd_code int values, command NAME, number of bytes remaining\\n   in command msg buffer. \\n   All commands require followon CONFIRM.\\n   All commands sending device_address may send 0xFF for ALL devices.\\n   So as to avoid collisions with ASCII/UTF-8\\n   control characters & capital letters used by REG_CODE, purely to \\n   avoid confusion, valid ranges are: 97-122, 225-250. Common commands\\n   (cmd_code <128) may be used by regular PPDs, but only on self. Rserved \\n   commands (cmd_code >127) can be used externally only by bosmang.\\n   Suggested for PPD to send OFFLNE before manual or programmed shutdown.\\n   The number of PPDs that can be included in 'all' for POWERON & POWEROFF\\n   is limited by the number of available MCU GPIOs for RPi-connected pins\\n   gpio_poweroff & PEN.\\n\""
      ]
     },
     "execution_count": null,
     "metadata": {},
     "output_type": "execute_result"
    }
   ],
   "source": [
    "# export\n",
    "\n",
    "ID_CODE  = bytearray([ord(c) for c in list('ppdd')])\n",
    "\"\"\"identifier string used by RPi(s) running PP device daemon\"\"\"\n",
    "\n",
    "REG_CODE = {\n",
    "    'CLR': bytearray([ord('F')]), # request to Flush/clear transmit FIFO\n",
    "    'IDF': bytearray([ord('I')]), # request to send [str]  ID_CODE\n",
    "    'BOS': bytearray([ord('B')]), # request to send [bool] Bosmang status\n",
    "    'TIM': bytearray([ord('T')]), # request to send [int]  dateTime\n",
    "    'CMD': bytearray([ord('C')]), # request to send [int]  Command\n",
    "    'HOS': bytearray([ord('H')]), # request to send [str]  Hostname\n",
    "    'LOD': bytearray([ord('L')]), # request to send [int]  Load\n",
    "    'UPT': bytearray([ord('U')]), # request to send [int]  Uptime\n",
    "    'TZN': bytearray([ord('Z')]), # request to send [int]  timeZone (sec offset from UTC)\n",
    "    'PEN': bytearray([ord('P')]), # request to send [int]  MCU pin connected to RPi PEN\n",
    "    \n",
    "    'FLK': bytearray([ord('K')]), # command to flicker [int] PWR LED for seconds [int]\n",
    "    'UID': bytearray([ord('V')]), # command to receive [int+bytearray] PPC len,microcontroller.cpu.uid\n",
    "    'ICS': bytearray([ord('2')]), # command to receive [int+str] PPC len,I2C_str\n",
    "    'MSG': bytearray([ord('M')]), # command to receive [int+str] message for display\n",
    "    'REG': bytearray([ord('R')]), # command to receive [int+int+variable_len] PPD addr, REG_CODE, value\n",
    "    'NAM': bytearray([ord('N')]), # command to receive [int+int+str] PPD addr,hostname (shorter than REG)\n",
    "    'RPT': bytearray([ord('S')]), # command to receive [int] stats report data for N PPDs\n",
    "    'PPD': bytearray([ord('D')]), # command to receive [int+int+str] PPD report addr,len,pack?\n",
    "                                  # or use convention of R but send stored value without reg query\n",
    "    'RBT': bytearray([247]),      # command to REBOOT\n",
    "    'SDN': bytearray([248]),      # command to SHUTDOWN\n",
    "    'ONN': bytearray([249]),      # command to POWERON\n",
    "    'OFF': bytearray([250])}      # command to POWEROFF \n",
    "\"\"\"I2C Register codes for PPDevices\"\"\"\n",
    "\n",
    "REG_VAL_LEN = {# in bytes for first (sometimes only) read/write; + len for followon read/write\n",
    "    'CLR': 16, # hardware transmit FIFO of RPi secondary I2C periph is 16 bytes\n",
    "    'IDF': len(ID_CODE),\n",
    "    'BOS': 1,  # len bosmang bool\n",
    "    'TIM': 4,  # len timestamp int\n",
    "    'CMD': 1,  # len cmd_code + bytes in CMD_CODE\n",
    "    'HOS': 1,  # len len(hostname) + len(hostname)\n",
    "    'LOD': 4,  # len loadavg string from float\n",
    "    'UPT': 4,  # len uptime seconds int\n",
    "    'TZN': 3,  # len utcoffset seconds int\n",
    "    'PEN': 1,  # len pin int of MCU GPIO connected to PIN\n",
    "    \n",
    "    'FLK': 2,  # len cmd_code + duration int\n",
    "    'UID': 1,  # len ACK + echo: len len(UID) + len(UID); set in PPController instance __init__\n",
    "    'ICS': 1,  # len ACK + echo: len len(ICS) + len(ICS); set in PPController instance __init__\n",
    "    'MSG': 1,  # len ACK + echo: len len(msg) + len(msg)\n",
    "    'REG': 2,  # len ACK + echo: REG_CODE + REG_VALUE_LEN + len(REG value); for given register for given PPD\n",
    "    'NAM': 2,  # len ACK + echo: len(hostname) + len(hostname); for given PPD \n",
    "    'RPT': 1,  # len ACK + echo: len(ppds); ppds for which report data will be sent\n",
    "    \n",
    "    'RBT': 1,  # len ACK + echo: cmd_code + device_address\n",
    "    'SDN': 1,  # len ACK + echo: cmd_code + device_address\n",
    "    'ONN': 1,  # len ACK + echo: cmd_code + device_address\n",
    "    'OFF': 1 } # len ACK + echo: cmd_code + device_address\n",
    "    \n",
    "CMD_CATALOG = (\n",
    "    (  0, 'NOP',        0), # no command, not used\n",
    "    ( 97, 'CONFIRM',    2), # device_address, cmd_code\n",
    "    ( 99, 'OFFLINE',    1), # device_address \n",
    "    ( 99, 'ONLINE',     1), # device_address \n",
    "    (100, 'DEREGISTER', 1), # device_address\n",
    "    (101, 'REG_GET' ,   2), # device_address, reg_code ; used for:\n",
    "                            # hostname, bosmang, timezone, uart/gpio_poweroff/pen pins\n",
    "                            # PPDevice will update its self values.\n",
    "                            # ppdd must then accept incoming data addr+reg_code+value\n",
    "                            # 2nd followon CONFIRM send when complete\n",
    "    (122, 'FLICKER',    2), # device_address, duration \n",
    "\n",
    "    (226, 'ROUNDROBIN', 1), # duration ; ALL PPDs\n",
    "    (227, 'REPORT',     1), # number of ppds ; 0xFF for all; if not 0xFF,\n",
    "                            # PPC then probes NAM register N times for list of addrs, \n",
    "                            # hostname included for error detection.\n",
    "    \n",
    "    (247, 'REBOOT',     1), # device_address \n",
    "    (248, 'SHUTDOWN',   1), # device_address \n",
    "    (249, 'POWERON',    1), # device_address \n",
    "    (250, 'POWEROFF',   1)) # device_address \n",
    "\n",
    "CMD_CODE =    { }\n",
    "CMD_NAME =    { }\n",
    "CMD_VAL_LEN = { }\n",
    "\n",
    "for code, name, vallen in CMD_CATALOG:\n",
    "    CMD_CODE[name]=code\n",
    "    CMD_NAME[code]=name\n",
    "    CMD_VAL_LEN[code]=vallen\n",
    "    \n",
    "\"\"\"Command cmd_code int values, command NAME, number of bytes remaining\n",
    "   in command msg buffer. \n",
    "   All commands require followon CONFIRM.\n",
    "   All commands sending device_address may send 0xFF for ALL devices.\n",
    "   So as to avoid collisions with ASCII/UTF-8\n",
    "   control characters & capital letters used by REG_CODE, purely to \n",
    "   avoid confusion, valid ranges are: 97-122, 225-250. Common commands\n",
    "   (cmd_code <128) may be used by regular PPDs, but only on self. Rserved \n",
    "   commands (cmd_code >127) can be used externally only by bosmang.\n",
    "   Suggested for PPD to send OFFLNE before manual or programmed shutdown.\n",
    "   The number of PPDs that can be included in 'all' for POWERON & POWEROFF\n",
    "   is limited by the number of available MCU GPIOs for RPi-connected pins\n",
    "   gpio_poweroff & PEN.\n",
    "\"\"\""
   ]
  },
  {
   "cell_type": "code",
   "execution_count": null,
   "id": "improved-slovakia",
   "metadata": {},
   "outputs": [
    {
     "data": {
      "application/javascript": [
       "IPython.notebook.save_checkpoint();"
      ],
      "text/plain": [
       "<IPython.core.display.Javascript object>"
      ]
     },
     "metadata": {},
     "output_type": "display_data"
    },
    {
     "name": "stdout",
     "output_type": "stream",
     "text": [
      "Converted 00_core.ipynb.\n",
      "Converted 01_codes.ipynb.\n",
      "Converted 10_schedule.ipynb.\n",
      "Converted 20_reports.ipynb.\n",
      "Converted index.ipynb.\n",
      "'CircuitPython_pico_pi_controller/codes.py' -> '/CIRCUITPY/lib/CircuitPython_pico_pi_controller/codes.py'\n"
     ]
    },
    {
     "data": {
      "text/plain": [
       "['\\x04']"
      ]
     },
     "execution_count": null,
     "metadata": {},
     "output_type": "execute_result"
    }
   ],
   "source": [
    "# hide\n",
    "try:\n",
    "    from IPython.display import display, Javascript\n",
    "    display(Javascript('IPython.notebook.save_checkpoint();'))\n",
    "    from time import sleep\n",
    "    sleep(0.3)\n",
    "    from nbdev.export import notebook2script\n",
    "    notebook2script()\n",
    "except ModuleNotFoundError:\n",
    "    pass\n",
    "    \"\"\"CircuitPython kernel has no nbdev\"\"\"\n",
    "\n",
    "!!echo -e \"\\x02\\x04\" | tee -a /dev/ttyACM0\n",
    "!!sleep (0.2)\n",
    "\n",
    "#%cp -v CircuitPython_pico_pi_controller/core.py /CIRCUITPY/lib/CircuitPython_pico_pi_controller.py\n",
    "%cp -v CircuitPython_pico_pi_controller/codes.py /CIRCUITPY/lib/CircuitPython_pico_pi_controller/\n",
    "!!sleep (0.3)\n",
    "!!echo -e \"\\x04\" | tee -a /dev/ttyACM0"
   ]
  },
  {
   "cell_type": "code",
   "execution_count": null,
   "id": "intelligent-evaluation",
   "metadata": {},
   "outputs": [],
   "source": []
  }
 ],
 "metadata": {
  "kernelspec": {
   "display_name": "Python 3",
   "language": "python",
   "name": "python3"
  }
 },
 "nbformat": 4,
 "nbformat_minor": 5
}
