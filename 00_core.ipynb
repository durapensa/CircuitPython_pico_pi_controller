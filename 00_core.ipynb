{
 "cells": [
  {
   "cell_type": "code",
   "execution_count": null,
   "metadata": {},
   "outputs": [],
   "source": [
    "# default_exp core"
   ]
  },
  {
   "cell_type": "markdown",
   "metadata": {},
   "source": [
    "# CircuitPython_pico_pi_controller\n",
    "\n",
    "> The `pico_pi_controller` module contains CircuitPython classes to manage multiple Raspberry Pi SBCs from a Raspberry Pi Pico, using i2c."
   ]
  },
  {
   "cell_type": "markdown",
   "metadata": {},
   "source": [
    "## About"
   ]
  },
  {
   "cell_type": "markdown",
   "metadata": {},
   "source": [
    "The classes in this module inherit from Adafruit's `busio` & `adafruit_bus_device` I2C classes for CircuitPython. `busio` is distributed with [CircuitPython](https://circuitpython.org), and `adafruit_bus_device` is distributed with the [CircuitPython Library Bundle](https://circuitpython.org/libraries).\n",
    "\n",
    "Broadcom SoC hardware I2C is utilized both for the controlling MCU (the Pico) and the controlled SBCs (Raspberry Pi 4/3+/Zero). I2C baudrate is limited from the controller (the Pico) to reduce transmit/receive errors."
   ]
  },
  {
   "cell_type": "markdown",
   "metadata": {},
   "source": [
    "Controller programs may be written with hard-coded I2C peripheral addresses of connected SBCs (called 'devices' by these classes). Or, autodiscovery may be used so that devices may be added without changing software on the controller.\n",
    "\n",
    "For example:"
   ]
  },
  {
   "cell_type": "markdown",
   "metadata": {},
   "source": [
    "<code>\n",
    "from pico_pi_controller import *\n",
    "    \n",
    "mycontroller = PPController()\n",
    "\n",
    "mycontroller.addDevice('0x13')\n",
    "mycontroller.listdevices()\n",
    "</code>"
   ]
  },
  {
   "cell_type": "markdown",
   "metadata": {},
   "source": [
    "This example will initialize I2C on the controller using the board defaults (I2C bus 1), retrieve host information & statistics from the SBC at I2C address 0x13, then return a list of device information."
   ]
  },
  {
   "cell_type": "markdown",
   "metadata": {},
   "source": [
    "## Module"
   ]
  },
  {
   "cell_type": "code",
   "execution_count": null,
   "metadata": {},
   "outputs": [],
   "source": [
    "#hide\n",
    "from nbdev.showdoc import *"
   ]
  },
  {
   "cell_type": "code",
   "execution_count": null,
   "metadata": {},
   "outputs": [],
   "source": [
    "#export\n",
    "from sys import byteorder, modules\n",
    "try:\n",
    "    from rtc import RTC\n",
    "except:\n",
    "    pass\n",
    "from time import sleep, struct_time\n",
    "from datetime import datetime\n",
    "#from board import SCL,SDA\n",
    "import board\n",
    "import busio\n",
    "from adafruit_bus_device.i2c_device import I2CDevice\n",
    "try:\n",
    "    from adafruit_itertools.adafruit_itertools import chain\n",
    "except:\n",
    "    from itertools import chain\n",
    "try:\n",
    "    import adafruit_logging as logging\n",
    "except:\n",
    "    import logging\n",
    "    \n",
    "logging.basicConfig(level=logging.DEBUG)\n",
    "#logger = logging.getLogger()\n",
    "#logger.setLevel(logging.DEBUG)"
   ]
  },
  {
   "cell_type": "code",
   "execution_count": null,
   "metadata": {},
   "outputs": [
    {
     "data": {
      "text/plain": [
       "'identifier string used by RPi devices'"
      ]
     },
     "execution_count": null,
     "metadata": {},
     "output_type": "execute_result"
    }
   ],
   "source": [
    "#export\n",
    "polling_interval = 2\n",
    "poll_fail_max = 11\n",
    "#IDENTITY = bytearray('ppc-daemon','utf-8') # of RPi devices\n",
    "IDENTITY = bytearray(([ord(c) for c in list('ppc-daemon')]))\n",
    "\"\"\"identifier string used by RPi devices\"\"\""
   ]
  },
  {
   "cell_type": "code",
   "execution_count": null,
   "metadata": {},
   "outputs": [],
   "source": [
    "#export\n",
    "#IDF = bytearray('I','utf-8') # request to send identification\n",
    "#HOS = bytearray('H','utf-8') # request to send hostname\n",
    "#LOD = bytearray('L','utf-8') # request to send load\n",
    "#TIM = bytearray('T','utf-8') # request to send datetime\n",
    "#PEN = bytearray('P','utf-8') # request to send MCU pin connected to RPi PEN\n",
    "\n",
    "IDF = bytearray(); IDF.append(ord('I')) # request to send identification\n",
    "HOS = bytearray(); HOS.append(ord('H')) # request to send hostname\n",
    "LOD = bytearray(); LOD.append(ord('L')) # request to send load\n",
    "TIM = bytearray(); TIM.append(ord('T')) # request to send datetime\n",
    "PEN = bytearray(); PEN.append(ord('P')) # request to send MCU pin connected to RPi PEN"
   ]
  },
  {
   "cell_type": "code",
   "execution_count": null,
   "metadata": {},
   "outputs": [],
   "source": [
    "#export\n",
    "class PPDevice(I2CDevice):\n",
    "    \"\"\"Represents an I2C peripheral device known to a `PPController`\n",
    "    and stores data from those peripherals identified as PPC devices.\"\"\"\n",
    "    def __init__(self, i2c, device_address, **kwargs):\n",
    "        super().__init__(i2c,device_address,**kwargs)\n",
    "        self.device_address = device_address\n",
    "        \n",
    "        self.bosmang = False\n",
    "        self.UART_RX = UART_RX\n",
    "        \"\"\"MCU GPIO RX for passthru from bosmang console TX\"\"\"\n",
    "        self.UART_TX = UART_TX\n",
    "        \"\"\"MCU GPIO TX for passthru from bosmang console RX\"\"\"\n",
    "        self.pen = 0\n",
    "        \"\"\"MCU GPIO connected to RPi PEN pin\"\"\"\n",
    "        self.retries = 0\n",
    "        \"\"\"retry count before I2CDevice is considered 'other', i.e. not a PPC device.\"\"\"\n",
    "        \n",
    "        self.hostname = \"unknown\"\n",
    "        self.load = \"\"\n",
    "        self.datetime = None\n",
    "        \"\"\"to send datetime as bosmang, and used to check for datetime skew\n",
    "           on other devices.\"\"\"\n",
    "        \n",
    "    def getHostname(self): \n",
    "        return self.hostname"
   ]
  },
  {
   "cell_type": "code",
   "execution_count": null,
   "metadata": {},
   "outputs": [],
   "source": [
    "#export\n",
    "class PPController(busio.I2C):\n",
    "    \"\"\"Represents one of the system's I2C busses and tracks which I2C\n",
    "    peripherals are `PPDevice`s.\"\"\"\n",
    "    def __init__(self, scl=board.SCL, sda=board.SDA, frequency=4800, timeout=10000, bosmang=None): \n",
    "        self.scl = scl\n",
    "        self.sda = sda\n",
    "        self.frequency=frequency\n",
    "        self.timeout=timeout\n",
    "        logging.info(\"PPC: using I2C bus on pins \"+str(scl)+\",\"+str(sda)+\" at frequency \"+str(frequency)+\n",
    "                     \" baud with timeout \"+str(timeout))\n",
    "        try:\n",
    "            super().__init__(scl, sda, frequency=frequency, timeout=timeout)\n",
    "        except:\n",
    "            super().__init__(scl, sda, frequency=frequency)\n",
    "            \"\"\"Blinka does not have keyword argument `timeout`\"\"\"\n",
    "        self.bosmang = bosmang\n",
    "        \"\"\"PPDevice hostname selected to recieve datetime & control instructions from,\n",
    "           have UART connected for passthru, etc. Default is `None`.\"\"\"\n",
    "        \n",
    "        self.devices = []\n",
    "        self.noident = []\n",
    "        self.othrdev = []\n",
    "        \n",
    "        self.datetime = 0\n",
    "        \"\"\"future use for receiving datetime from bosmang\"\"\"\n",
    "\n",
    "    def addDevice(self, *args):\n",
    "        self.devices.append(PPDevice(i2c=self,device_address=args[0]))\n",
    "\n",
    "\n",
    "    def scanForNew(self):\n",
    "        while not self.try_lock():\n",
    "            sleep(.1)\n",
    "            pass\n",
    "        for addr in self.scan():\n",
    "            if not any(d.device_address == addr \n",
    "                       for d in chain(self.devices,self.noident,self.othrdev)):\n",
    "                self.noident.append(PPDevice(i2c=self,device_address=addr))\n",
    "        self.unlock()\n",
    "                \n",
    "    def identifyNew(self):\n",
    "        for d in self.noident:\n",
    "            with d:\n",
    "                msg = bytearray(len(IDENTITY))\n",
    "                try:\n",
    "                    d.write_then_readinto(IDF,msg)\n",
    "                except:\n",
    "                    pass\n",
    "            if msg == IDENTITY:\n",
    "                self.devices.append(self.noident.pop(self.noident.index(d)))\n",
    "            else:\n",
    "                d.retries += 1\n",
    "                if d.retries >= poll_fail_max:\n",
    "                    self.othrdev.append(self.noident.pop(self.noident.index(d)))\n",
    "                \n",
    "    \n",
    "    def autoAddDevices(self):\n",
    "        scanForNew()\n",
    "        identifyNew()\n",
    "                \n",
    "    def listdevices(self):\n",
    "        return self.devices"
   ]
  },
  {
   "cell_type": "markdown",
   "metadata": {},
   "source": [
    "UART_RX # \n",
    "UART_TX # board pin TX for passthru for bosmang\n",
    "\n",
    "<code>\n",
    "    def operation(self):\n",
    "        for device in self._devices:\n",
    "            device.operation()\n",
    "</code>"
   ]
  },
  {
   "cell_type": "code",
   "execution_count": null,
   "metadata": {},
   "outputs": [
    {
     "name": "stderr",
     "output_type": "stream",
     "text": [
      "INFO:root:Using I2C bus on pins 3,2 at frequency 4800 with timeout 10000\n"
     ]
    },
    {
     "name": "stdout",
     "output_type": "stream",
     "text": [
      "scanning with scanForNew(): "
     ]
    },
    {
     "ename": "KeyboardInterrupt",
     "evalue": "",
     "output_type": "error",
     "traceback": [
      "\u001b[0;31m------------------------------------------------------------------------\u001b[0m",
      "\u001b[0;31mKeyboardInterrupt\u001b[0m                      Traceback (most recent call last)",
      "\u001b[0;32m<ipython-input-8-79fba0249ca5>\u001b[0m in \u001b[0;36m<module>\u001b[0;34m\u001b[0m\n\u001b[1;32m      3\u001b[0m \u001b[0mcon\u001b[0m\u001b[0;34m=\u001b[0m\u001b[0mPPController\u001b[0m\u001b[0;34m(\u001b[0m\u001b[0;34m)\u001b[0m\u001b[0;34m\u001b[0m\u001b[0;34m\u001b[0m\u001b[0m\n\u001b[1;32m      4\u001b[0m \u001b[0mprint\u001b[0m\u001b[0;34m(\u001b[0m\u001b[0;34m\"scanning with scanForNew(): \"\u001b[0m\u001b[0;34m,\u001b[0m \u001b[0mend\u001b[0m\u001b[0;34m=\u001b[0m\u001b[0;34m''\u001b[0m\u001b[0;34m)\u001b[0m\u001b[0;34m\u001b[0m\u001b[0;34m\u001b[0m\u001b[0m\n\u001b[0;32m----> 5\u001b[0;31m \u001b[0mprint\u001b[0m\u001b[0;34m(\u001b[0m\u001b[0mcon\u001b[0m\u001b[0;34m.\u001b[0m\u001b[0mscanForNew\u001b[0m\u001b[0;34m(\u001b[0m\u001b[0;34m)\u001b[0m\u001b[0;34m)\u001b[0m\u001b[0;34m\u001b[0m\u001b[0;34m\u001b[0m\u001b[0m\n\u001b[0m\u001b[1;32m      6\u001b[0m \u001b[0mprint\u001b[0m\u001b[0;34m(\u001b[0m\u001b[0;34m\"identifying with identifyNew(): \"\u001b[0m\u001b[0;34m,\u001b[0m \u001b[0mend\u001b[0m\u001b[0;34m=\u001b[0m\u001b[0;34m''\u001b[0m\u001b[0;34m)\u001b[0m\u001b[0;34m\u001b[0m\u001b[0;34m\u001b[0m\u001b[0m\n\u001b[1;32m      7\u001b[0m \u001b[0mprint\u001b[0m\u001b[0;34m(\u001b[0m\u001b[0mcon\u001b[0m\u001b[0;34m.\u001b[0m\u001b[0midentifyNew\u001b[0m\u001b[0;34m(\u001b[0m\u001b[0;34m)\u001b[0m\u001b[0;34m)\u001b[0m\u001b[0;34m\u001b[0m\u001b[0;34m\u001b[0m\u001b[0m\n",
      "\u001b[0;32m<ipython-input-7-aa20c36d59cb>\u001b[0m in \u001b[0;36mscanForNew\u001b[0;34m(self)\u001b[0m\n\u001b[1;32m     37\u001b[0m             if not any(d.device_address == addr \n\u001b[1;32m     38\u001b[0m                        for d in chain(self.devices,self.noident,self.othrdev)):\n\u001b[0;32m---> 39\u001b[0;31m                 \u001b[0mself\u001b[0m\u001b[0;34m.\u001b[0m\u001b[0mnoident\u001b[0m\u001b[0;34m.\u001b[0m\u001b[0mappend\u001b[0m\u001b[0;34m(\u001b[0m\u001b[0mPPDevice\u001b[0m\u001b[0;34m(\u001b[0m\u001b[0mi2c\u001b[0m\u001b[0;34m=\u001b[0m\u001b[0mself\u001b[0m\u001b[0;34m,\u001b[0m\u001b[0mdevice_address\u001b[0m\u001b[0;34m=\u001b[0m\u001b[0maddr\u001b[0m\u001b[0;34m)\u001b[0m\u001b[0;34m)\u001b[0m\u001b[0;34m\u001b[0m\u001b[0;34m\u001b[0m\u001b[0m\n\u001b[0m\u001b[1;32m     40\u001b[0m         \u001b[0mself\u001b[0m\u001b[0;34m.\u001b[0m\u001b[0munlock\u001b[0m\u001b[0;34m(\u001b[0m\u001b[0;34m)\u001b[0m\u001b[0;34m\u001b[0m\u001b[0;34m\u001b[0m\u001b[0m\n\u001b[1;32m     41\u001b[0m \u001b[0;34m\u001b[0m\u001b[0m\n",
      "\u001b[0;32m<ipython-input-6-0f0f69fce57d>\u001b[0m in \u001b[0;36m__init__\u001b[0;34m(self, i2c, device_address, **kwargs)\u001b[0m\n\u001b[1;32m      4\u001b[0m     and stores data from those peripherals identified as PPC devices.\"\"\"\n\u001b[1;32m      5\u001b[0m     \u001b[0;32mdef\u001b[0m \u001b[0m__init__\u001b[0m\u001b[0;34m(\u001b[0m\u001b[0mself\u001b[0m\u001b[0;34m,\u001b[0m \u001b[0mi2c\u001b[0m\u001b[0;34m,\u001b[0m \u001b[0mdevice_address\u001b[0m\u001b[0;34m,\u001b[0m \u001b[0;34m**\u001b[0m\u001b[0mkwargs\u001b[0m\u001b[0;34m)\u001b[0m\u001b[0;34m:\u001b[0m\u001b[0;34m\u001b[0m\u001b[0;34m\u001b[0m\u001b[0m\n\u001b[0;32m----> 6\u001b[0;31m         \u001b[0msuper\u001b[0m\u001b[0;34m(\u001b[0m\u001b[0;34m)\u001b[0m\u001b[0;34m.\u001b[0m\u001b[0m__init__\u001b[0m\u001b[0;34m(\u001b[0m\u001b[0mi2c\u001b[0m\u001b[0;34m,\u001b[0m\u001b[0mdevice_address\u001b[0m\u001b[0;34m,\u001b[0m\u001b[0;34m**\u001b[0m\u001b[0mkwargs\u001b[0m\u001b[0;34m)\u001b[0m\u001b[0;34m\u001b[0m\u001b[0;34m\u001b[0m\u001b[0m\n\u001b[0m\u001b[1;32m      7\u001b[0m         \u001b[0mself\u001b[0m\u001b[0;34m.\u001b[0m\u001b[0mdevice_address\u001b[0m \u001b[0;34m=\u001b[0m \u001b[0mdevice_address\u001b[0m\u001b[0;34m\u001b[0m\u001b[0;34m\u001b[0m\u001b[0m\n\u001b[1;32m      8\u001b[0m \u001b[0;34m\u001b[0m\u001b[0m\n",
      "\u001b[0;32m/usr/local/lib/python3.7/dist-packages/adafruit_bus_device/i2c_device.py\u001b[0m in \u001b[0;36m__init__\u001b[0;34m(self, i2c, device_address, probe)\u001b[0m\n\u001b[1;32m     48\u001b[0m \u001b[0;34m\u001b[0m\u001b[0m\n\u001b[1;32m     49\u001b[0m         \u001b[0;32mif\u001b[0m \u001b[0mprobe\u001b[0m\u001b[0;34m:\u001b[0m\u001b[0;34m\u001b[0m\u001b[0;34m\u001b[0m\u001b[0m\n\u001b[0;32m---> 50\u001b[0;31m             \u001b[0mself\u001b[0m\u001b[0;34m.\u001b[0m\u001b[0m__probe_for_device\u001b[0m\u001b[0;34m(\u001b[0m\u001b[0;34m)\u001b[0m\u001b[0;34m\u001b[0m\u001b[0;34m\u001b[0m\u001b[0m\n\u001b[0m\u001b[1;32m     51\u001b[0m \u001b[0;34m\u001b[0m\u001b[0m\n\u001b[1;32m     52\u001b[0m     \u001b[0;32mdef\u001b[0m \u001b[0mreadinto\u001b[0m\u001b[0;34m(\u001b[0m\u001b[0mself\u001b[0m\u001b[0;34m,\u001b[0m \u001b[0mbuf\u001b[0m\u001b[0;34m,\u001b[0m \u001b[0;34m*\u001b[0m\u001b[0;34m,\u001b[0m \u001b[0mstart\u001b[0m\u001b[0;34m=\u001b[0m\u001b[0;36m0\u001b[0m\u001b[0;34m,\u001b[0m \u001b[0mend\u001b[0m\u001b[0;34m=\u001b[0m\u001b[0;32mNone\u001b[0m\u001b[0;34m)\u001b[0m\u001b[0;34m:\u001b[0m\u001b[0;34m\u001b[0m\u001b[0;34m\u001b[0m\u001b[0m\n",
      "\u001b[0;32m/usr/local/lib/python3.7/dist-packages/adafruit_bus_device/i2c_device.py\u001b[0m in \u001b[0;36m__probe_for_device\u001b[0;34m(self)\u001b[0m\n\u001b[1;32m    149\u001b[0m         \u001b[0;32mor\u001b[0m \u001b[0mthat\u001b[0m \u001b[0mthe\u001b[0m \u001b[0mdevice\u001b[0m \u001b[0mdoes\u001b[0m \u001b[0;32mnot\u001b[0m \u001b[0msupport\u001b[0m \u001b[0mthese\u001b[0m \u001b[0mmeans\u001b[0m \u001b[0mof\u001b[0m \u001b[0mprobing\u001b[0m\u001b[0;34m\u001b[0m\u001b[0;34m\u001b[0m\u001b[0m\n\u001b[1;32m    150\u001b[0m         \"\"\"\n\u001b[0;32m--> 151\u001b[0;31m         \u001b[0;32mwhile\u001b[0m \u001b[0;32mnot\u001b[0m \u001b[0mself\u001b[0m\u001b[0;34m.\u001b[0m\u001b[0mi2c\u001b[0m\u001b[0;34m.\u001b[0m\u001b[0mtry_lock\u001b[0m\u001b[0;34m(\u001b[0m\u001b[0;34m)\u001b[0m\u001b[0;34m:\u001b[0m\u001b[0;34m\u001b[0m\u001b[0;34m\u001b[0m\u001b[0m\n\u001b[0m\u001b[1;32m    152\u001b[0m             \u001b[0;32mpass\u001b[0m\u001b[0;34m\u001b[0m\u001b[0;34m\u001b[0m\u001b[0m\n\u001b[1;32m    153\u001b[0m         \u001b[0;32mtry\u001b[0m\u001b[0;34m:\u001b[0m\u001b[0;34m\u001b[0m\u001b[0;34m\u001b[0m\u001b[0m\n",
      "\u001b[0;32m/usr/local/lib/python3.7/dist-packages/adafruit_blinka/__init__.py\u001b[0m in \u001b[0;36mtry_lock\u001b[0;34m(self)\u001b[0m\n\u001b[1;32m     59\u001b[0m     \u001b[0m_locked\u001b[0m \u001b[0;34m=\u001b[0m \u001b[0;32mFalse\u001b[0m\u001b[0;34m\u001b[0m\u001b[0;34m\u001b[0m\u001b[0m\n\u001b[1;32m     60\u001b[0m \u001b[0;34m\u001b[0m\u001b[0m\n\u001b[0;32m---> 61\u001b[0;31m     \u001b[0;32mdef\u001b[0m \u001b[0mtry_lock\u001b[0m\u001b[0;34m(\u001b[0m\u001b[0mself\u001b[0m\u001b[0;34m)\u001b[0m\u001b[0;34m:\u001b[0m\u001b[0;34m\u001b[0m\u001b[0;34m\u001b[0m\u001b[0m\n\u001b[0m\u001b[1;32m     62\u001b[0m         \u001b[0;34m\"\"\"Attempt to grab the lock. Return True on success, False if the lock is already taken.\"\"\"\u001b[0m\u001b[0;34m\u001b[0m\u001b[0;34m\u001b[0m\u001b[0m\n\u001b[1;32m     63\u001b[0m         \u001b[0;32mif\u001b[0m \u001b[0mself\u001b[0m\u001b[0;34m.\u001b[0m\u001b[0m_locked\u001b[0m\u001b[0;34m:\u001b[0m\u001b[0;34m\u001b[0m\u001b[0;34m\u001b[0m\u001b[0m\n",
      "\u001b[0;31mKeyboardInterrupt\u001b[0m: "
     ]
    }
   ],
   "source": [
    "#hide\n",
    "# module test program\n",
    "con=PPController()\n",
    "print(\"scanning with scanForNew(): \", end='')\n",
    "print(con.scanForNew())\n",
    "print(\"identifying with identifyNew(): \", end='')\n",
    "print(con.identifyNew())\n",
    "print(\"listing devices with listdevices(): \", end='')\n",
    "print([f'0x{a:02x}' for a in con.listdevices()])"
   ]
  },
  {
   "cell_type": "code",
   "execution_count": null,
   "metadata": {},
   "outputs": [
    {
     "name": "stdout",
     "output_type": "stream",
     "text": [
      "trying to lock I2C bus with try_lock(): True\n",
      "scanning I2C bus with scan(): ['0x3c']\n"
     ]
    }
   ],
   "source": [
    "#hide \n",
    "# stand-alone test program\n",
    "import board\n",
    "import busio\n",
    "\n",
    "try:\n",
    "    i2c = busio.I2C(board.SCL, board.SDA, frequency=4800, timeout=10000)\n",
    "except:\n",
    "    i2c = busio.I2C(board.SCL, board.SDA, frequency=4800)\n",
    "    \"\"\"Blinka does not use keyword argument `timeout`\"\"\"\n",
    "print(\"trying to lock I2C bus with try_lock(): \", end='')\n",
    "print(i2c.try_lock())\n",
    "print(\"scanning I2C bus with scan(): \", end='')\n",
    "print([f'0x{a:02x}' for a in i2c.scan()])"
   ]
  },
  {
   "cell_type": "markdown",
   "metadata": {},
   "source": [
    "## Appendix"
   ]
  },
  {
   "cell_type": "code",
   "execution_count": null,
   "metadata": {},
   "outputs": [],
   "source": [
    "from nbdev.export import notebook2script\n",
    "notebook2script()"
   ]
  }
 ],
 "metadata": {
  "kernelspec": {
   "display_name": "Python 3",
   "language": "python",
   "name": "python3"
  }
 },
 "nbformat": 4,
 "nbformat_minor": 2
}
