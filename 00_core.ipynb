{
 "cells": [
  {
   "cell_type": "code",
   "execution_count": null,
   "metadata": {},
   "outputs": [],
   "source": [
    "# default_exp core"
   ]
  },
  {
   "cell_type": "markdown",
   "metadata": {},
   "source": [
    "# CircuitPython_pico_pi_controller\n",
    "\n",
    "> The `pico_pi_controller` module contains CircuitPython classes to manage multiple Raspberry Pi SBCs from a Raspberry Pi Pico, using i2c."
   ]
  },
  {
   "cell_type": "markdown",
   "metadata": {},
   "source": [
    "## About"
   ]
  },
  {
   "cell_type": "markdown",
   "metadata": {},
   "source": [
    "The classes in this module inherit from Adafruit's `busio` & `adafruit_bus_device` I2C classes for CircuitPython. `busio` is distributed with [CircuitPython](https://circuitpython.org), and `adafruit_bus_device` is distributed with the [CircuitPython Library Bundle](https://circuitpython.org/libraries).\n",
    "\n",
    "Broadcom SoC hardware I2C is utilized both for the controlling MCU (the Pico) and the controlled SBCs (Raspberry Pi 4/3+/Zero). I2C baudrate is limited from the controller (the Pico) to reduce transmit/receive errors."
   ]
  },
  {
   "cell_type": "markdown",
   "metadata": {},
   "source": [
    "Controller programs may be written with hard-coded I2C peripheral addresses of connected SBCs (called 'devices' by these classes). Or, autodiscovery may be used so that devices may be added without changing software on the controller.\n",
    "\n",
    "For example:"
   ]
  },
  {
   "cell_type": "markdown",
   "metadata": {},
   "source": [
    "<code>\n",
    "from pico_pi_controller import *\n",
    "    \n",
    "mycontroller = PPController()\n",
    "\n",
    "mycontroller.addDevice('0x13')\n",
    "mycontroller.listdevices()\n",
    "</code>"
   ]
  },
  {
   "cell_type": "markdown",
   "metadata": {},
   "source": [
    "This example will initialize I2C on the controller using the board defaults (I2C bus 1), retrieve host information & statistics from the SBC at I2C address 0x13, then return a list of device information."
   ]
  },
  {
   "cell_type": "markdown",
   "metadata": {},
   "source": [
    "## Module"
   ]
  },
  {
   "cell_type": "code",
   "execution_count": null,
   "metadata": {},
   "outputs": [],
   "source": [
    "#hide\n",
    "try:\n",
    "    from nbdev.showdoc import *\n",
    "except:\n",
    "    pass\n",
    "    \"\"\"CircuitPython kernel has no nbdev\"\"\""
   ]
  },
  {
   "cell_type": "code",
   "execution_count": null,
   "metadata": {},
   "outputs": [],
   "source": [
    "#export\n",
    "from sys import byteorder, modules\n",
    "from time import sleep, struct_time\n",
    "import board\n",
    "import busio\n",
    "from adafruit_bus_device.i2c_device import I2CDevice\n",
    "try:\n",
    "    from rtc import RTC\n",
    "except:\n",
    "    pass\n",
    "try:\n",
    "    from adafruit_datetime import datetime\n",
    "except:\n",
    "    from datetime import datetime\n",
    "try:\n",
    "    from adafruit_itertools.adafruit_itertools import chain\n",
    "except:\n",
    "    from itertools import chain\n",
    "try:\n",
    "    import adafruit_logging as logging\n",
    "except:\n",
    "    import logging\n",
    "    \n",
    "try:\n",
    "    logger = logging.getLogger('PPC')\n",
    "except:\n",
    "    logger = logging.getLogger()\n",
    "logger.setLevel(logging.DEBUG)"
   ]
  },
  {
   "cell_type": "code",
   "execution_count": null,
   "metadata": {},
   "outputs": [],
   "source": [
    "#export\n",
    "polling_interval = 2\n",
    "poll_fail_max = 11\n",
    "#IDENTITY = bytearray('ppc-daemon','utf-8') # of RPi devices\n",
    "IDENTITY = bytearray(([ord(c) for c in list('ppc-daemon')]))\n",
    "\"\"\"identifier string used by RPi devices\"\"\"\n",
    "\n",
    "IDF = bytearray(); IDF.append(ord('I')) # request to send identification\n",
    "HOS = bytearray(); HOS.append(ord('H')) # request to send hostname\n",
    "LOD = bytearray(); LOD.append(ord('L')) # request to send load\n",
    "TIM = bytearray(); TIM.append(ord('T')) # request to send datetime\n",
    "PEN = bytearray(); PEN.append(ord('P')) # request to send MCU pin connected to RPi PEN"
   ]
  },
  {
   "cell_type": "code",
   "execution_count": null,
   "metadata": {},
   "outputs": [],
   "source": [
    "#export\n",
    "class PPDevice(I2CDevice):\n",
    "    \"\"\"Represents an I2C peripheral device known to a `PPController`\n",
    "    and stores data from those peripherals identified as PPC devices.\"\"\"\n",
    "    def __init__(self, i2c, device_address, **kwargs):\n",
    "        super().__init__(i2c,device_address,**kwargs)\n",
    "        self.device_address = device_address\n",
    "        \n",
    "        self.bosmang = False\n",
    "        self.UART_RX = UART_RX\n",
    "        \"\"\"MCU GPIO RX for passthru from bosmang console TX\"\"\"\n",
    "        self.UART_TX = UART_TX\n",
    "        \"\"\"MCU GPIO TX for passthru from bosmang console RX\"\"\"\n",
    "        self.pen = 0\n",
    "        \"\"\"MCU GPIO connected to RPi PEN pin\"\"\"\n",
    "        self.retries = 0\n",
    "        \"\"\"retry count before I2CDevice is considered 'other', i.e. not a PPC device.\"\"\"\n",
    "        \n",
    "        self.hostname = \"unknown\"\n",
    "        self.load = \"\"\n",
    "        self.datetime = None\n",
    "        \"\"\"to send datetime as bosmang, and used to check for datetime skew\n",
    "           on other devices.\"\"\"\n",
    "        \n",
    "    def getHostname(self): \n",
    "        return self.hostname"
   ]
  },
  {
   "cell_type": "code",
   "execution_count": null,
   "metadata": {},
   "outputs": [],
   "source": [
    "#export\n",
    "class PPController(busio.I2C):\n",
    "    \"\"\"Represents one of the system's I2C busses and tracks which I2C\n",
    "    peripherals are `PPDevice`s.\"\"\"\n",
    "    def __init__(self, scl=board.SCL, sda=board.SDA, frequency=4800, timeout=10000, bosmang=None): \n",
    "        self.scl = scl\n",
    "        self.sda = sda\n",
    "        self.frequency=frequency\n",
    "        self.timeout=timeout\n",
    "        logger.info(\"PPC: using I2C bus on pins \"+str(scl)+\",\"+str(sda)+\" at frequency \"+str(frequency)+\n",
    "                     \" baud with timeout \"+str(timeout))\n",
    "        try:\n",
    "            super().__init__(scl, sda, frequency=frequency, timeout=timeout)\n",
    "            #super().__init__(scl, sda)\n",
    "        except:\n",
    "            super().__init__(scl, sda, frequency=frequency)\n",
    "            \"\"\"Blinka does not have keyword argument `timeout`\"\"\"\n",
    "        self.bosmang = bosmang\n",
    "        \"\"\"PPDevice hostname selected to recieve datetime & control instructions from,\n",
    "           have UART connected for passthru, etc. Default is `None`.\"\"\"\n",
    "        \n",
    "        self.devices = []\n",
    "        self.noident = []\n",
    "        self.othrdev = []\n",
    "        \n",
    "        self.datetime = 0\n",
    "        \"\"\"future use for receiving datetime from bosmang\"\"\"\n",
    "\n",
    "    def addDevice(self, *args):\n",
    "        self.devices.append(PPDevice(i2c=self,device_address=args[0]))\n",
    "\n",
    "\n",
    "    def scanForNew(self):\n",
    "        if self.try_lock() == False:\n",
    "            logger.info(\"PPC: I2C lock not avilable\")\n",
    "            return False\n",
    "        for addr in self.scan():\n",
    "            if not any(d.device_address == addr \n",
    "                       for d in chain(self.devices,self.noident,self.othrdev)):\n",
    "                self.noident.append(PPDevice(i2c=self,device_address=addr))\n",
    "        self.unlock()\n",
    "                \n",
    "    def identifyNew(self):\n",
    "        for d in self.noident:\n",
    "            with d:\n",
    "                msg = bytearray(len(IDENTITY))\n",
    "                try:\n",
    "                    d.write_then_readinto(IDF,msg)\n",
    "                except:\n",
    "                    pass\n",
    "            if msg == IDENTITY:\n",
    "                self.devices.append(self.noident.pop(self.noident.index(d)))\n",
    "            else:\n",
    "                d.retries += 1\n",
    "                if d.retries >= poll_fail_max:\n",
    "                    self.othrdev.append(self.noident.pop(self.noident.index(d)))\n",
    "                \n",
    "    \n",
    "    def autoAddDevices(self):\n",
    "        scanForNew()\n",
    "        identifyNew()\n",
    "                \n",
    "    def listdevices(self):\n",
    "        return self.devices\n",
    "    \n",
    "    def __enter__(self):\n",
    "        while not super().i2c.try_lock():\n",
    "            pass\n",
    "        return self\n",
    "    \n",
    "    def __exit__(self, exc_type, exc_val, exc_tb):\n",
    "        super().i2c.unlock()\n",
    "        super().i2c.deinit()\n",
    "        return False"
   ]
  },
  {
   "cell_type": "code",
   "execution_count": null,
   "metadata": {},
   "outputs": [
    {
     "name": "stdout",
     "output_type": "stream",
     "text": [
      "2302.15: INFO - PPC: using I2C bus on pins board.SCL,board.SDA at frequency 4800 baud with timeout 10000\r\n"
     ]
    },
    {
     "name": "stderr",
     "output_type": "stream",
     "text": [
      "Traceback (most recent call last):\r\n",
      "  File \"<stdin>\", line 1, in <module>\r\n",
      "  File \"<stdin>\", line 14, in __init__\r\n",
      "ValueError: SCL in use\r\n"
     ]
    }
   ],
   "source": [
    "#hide\n",
    "# module test program\n",
    "con=PPController()\n",
    "print(\"scanning with scanForNew(): \", end='')\n",
    "print(con.scanForNew())\n",
    "print(\"identifying with identifyNew(): \", end='')\n",
    "print(con.identifyNew())\n",
    "print(\"listing devices with listdevices(): \", end='')\n",
    "print([f'0x{a:02x}' for a in con.listdevices()])\n",
    "con.unlock()\n",
    "con.deinit()\n",
    "del con"
   ]
  },
  {
   "cell_type": "code",
   "execution_count": null,
   "metadata": {},
   "outputs": [],
   "source": [
    "#hide \n",
    "# stand-alone test program\n",
    "import board\n",
    "import busio\n",
    "\n",
    "try:\n",
    "    i2c = busio.I2C(board.SCL, board.SDA, frequency=4800, timeout=10000)\n",
    "except:\n",
    "    i2c = busio.I2C(board.SCL, board.SDA, frequency=4800)\n",
    "    \"\"\"Blinka does not use keyword argument `timeout`\"\"\"\n",
    "print(\"trying to lock I2C bus with try_lock(): \", end='')\n",
    "print(i2c.try_lock())\n",
    "print(\"scanning I2C bus with scan(): \", end='')\n",
    "print([f'0x{a:02x}' for a in i2c.scan()])"
   ]
  },
  {
   "cell_type": "markdown",
   "metadata": {},
   "source": [
    "## Appendix"
   ]
  },
  {
   "cell_type": "code",
   "execution_count": null,
   "metadata": {},
   "outputs": [],
   "source": [
    "try:\n",
    "    from nbdev.export import notebook2script\n",
    "    notebook2script()\n",
    "excpet:\n",
    "    pass"
   ]
  }
 ],
 "metadata": {
  "kernelspec": {
   "display_name": "CircuitPython",
   "language": "python",
   "name": "circuitpython"
  }
 },
 "nbformat": 4,
 "nbformat_minor": 2
}
