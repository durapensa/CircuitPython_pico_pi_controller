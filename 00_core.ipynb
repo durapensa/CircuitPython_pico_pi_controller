{
 "cells": [
  {
   "cell_type": "code",
   "execution_count": null,
   "metadata": {},
   "outputs": [],
   "source": [
    "# default_exp core"
   ]
  },
  {
   "cell_type": "markdown",
   "metadata": {},
   "source": [
    "# CircuitPython_pico_pi_controller\n",
    "\n",
    "> The `pico_pi_controller` module contains CircuitPython classes to manage multiple Raspberry Pi SBCs from a Raspberry Pi Pico, using i2c."
   ]
  },
  {
   "cell_type": "markdown",
   "metadata": {},
   "source": [
    "## About"
   ]
  },
  {
   "cell_type": "markdown",
   "metadata": {},
   "source": [
    "The classes in this module inherit from Adafruit's `busio` & `adafruit_bus_device` I2C classes for CircuitPython. `busio` is distributed with [CircuitPython](https://circuitpython.org), and `adafruit_bus_device` is distributed with the [CircuitPython Library Bundle](https://circuitpython.org/libraries).\n",
    "\n",
    "Broadcom SoC hardware I2C is utilized both for the controlling MCU (the Pico) and the controlled SBCs (Raspberry Pi 4/3+/Zero). I2C baudrate is limited from the controller (the Pico) to reduce transmit/receive errors."
   ]
  },
  {
   "cell_type": "markdown",
   "metadata": {},
   "source": [
    "Controller programs may be written with hard-coded I2C peripheral addresses of connected SBCs (called 'devices' by these classes). Or, autodiscovery may be used so that devices may be added without changing software on the controller.\n",
    "\n",
    "For example:"
   ]
  },
  {
   "cell_type": "markdown",
   "metadata": {},
   "source": [
    "<code>\n",
    "from pico_pi_controller import *\n",
    "    \n",
    "mycontroller = PPController()\n",
    "\n",
    "mycontroller.addDevice('0x13')\n",
    "mycontroller.listdevices()\n",
    "</code>"
   ]
  },
  {
   "cell_type": "markdown",
   "metadata": {},
   "source": [
    "This example will initialize I2C on the controller using the board defaults (I2C bus 1), retrieve host information & statistics from the SBC at I2C address 0x13, then return a list of device information."
   ]
  },
  {
   "cell_type": "markdown",
   "metadata": {},
   "source": [
    "## Module"
   ]
  },
  {
   "cell_type": "code",
   "execution_count": null,
   "metadata": {},
   "outputs": [],
   "source": [
    "#hide\n",
    "from nbdev.showdoc import *"
   ]
  },
  {
   "cell_type": "code",
   "execution_count": null,
   "metadata": {},
   "outputs": [],
   "source": [
    "#export\n",
    "from sys import byteorder, modules\n",
    "#from rtc import RTC #can't do without MCU CircuitPython\n",
    "#from time import sleep, datetime, struct_time\n",
    "from time import sleep\n",
    "from board import SCL,SDA\n",
    "from busio import I2C\n",
    "from adafruit_bus_device.i2c_device import I2CDevice\n",
    "try:\n",
    "    from adafruit_itertools.adafruit_itertools import chain\n",
    "except:\n",
    "    from itertools import chain\n",
    "try:\n",
    "    import adafruit_logging as logging\n",
    "except:\n",
    "    import logging"
   ]
  },
  {
   "cell_type": "code",
   "execution_count": null,
   "metadata": {},
   "outputs": [
    {
     "data": {
      "text/plain": [
       "'identifier string used by RPi devices'"
      ]
     },
     "execution_count": null,
     "metadata": {},
     "output_type": "execute_result"
    }
   ],
   "source": [
    "#export\n",
    "polling_interval = 2\n",
    "poll_fail_max = 11\n",
    "#IDENTITY = bytearray('ppc-daemon','utf-8') # of RPi devices\n",
    "IDENTITY = bytearray(([ord(c) for c in list('ppc-daemon')]))\n",
    "\"\"\"identifier string used by RPi devices\"\"\""
   ]
  },
  {
   "cell_type": "code",
   "execution_count": null,
   "metadata": {},
   "outputs": [],
   "source": [
    "#export\n",
    "#IDF = bytearray('I','utf-8') # request to send identification\n",
    "#HOS = bytearray('H','utf-8') # request to send hostname\n",
    "#LOD = bytearray('L','utf-8') # request to send load\n",
    "#TIM = bytearray('T','utf-8') # request to send datetime\n",
    "#PEN = bytearray('P','utf-8') # request to send MCU pin connected to RPi PEN\n",
    "\n",
    "IDF = bytearray(); IDF.append(ord('I')) # request to send identification\n",
    "HOS = bytearray(); HOS.append(ord('H')) # request to send hostname\n",
    "LOD = bytearray(); LOD.append(ord('L')) # request to send load\n",
    "TIM = bytearray(); TIM.append(ord('T')) # request to send datetime\n",
    "PEN = bytearray(); PEN.append(ord('P')) # request to send MCU pin connected to RPi PEN"
   ]
  },
  {
   "cell_type": "code",
   "execution_count": null,
   "metadata": {},
   "outputs": [],
   "source": [
    "#export\n",
    "class PPDevice(I2CDevice):\n",
    "    \"\"\"Represents an I2C peripheral device known to a `PPController`\n",
    "    and stores data from those peripherals identified as PPC devices.\"\"\"\n",
    "    def __init__(self, i2c, device_address, **kwargs):\n",
    "        super().__init__(i2c,device_address,**kwargs)\n",
    "        #self.device_address = device_address\n",
    "        self.hostname = \"unknown\"\n",
    "        self.bosmang = False\n",
    "        self.load = \"\"\n",
    "        self.pen = 0\n",
    "        \"\"\"MCU board pin connected to RPi PEN pin\"\"\"\n",
    "        self.retries = 0\n",
    "        \"\"\"retry count before I2CDevice is considered 'other', i.e. not a PPC device.\"\"\"\n",
    "        \n",
    "    def getHostname(self): \n",
    "        return self.hostname"
   ]
  },
  {
   "cell_type": "code",
   "execution_count": null,
   "metadata": {},
   "outputs": [],
   "source": [
    "#export\n",
    "class PPController(I2C):\n",
    "    \"\"\"Represents one of the system's I2C busses and tracks which I2C\n",
    "    peripherals are `PPDevice`s.\"\"\"\n",
    "    def __init__(self, scl=SCL, sda=SDA, frequency=4800, bosmang=None, UART_RX=None, UART_TX=None): \n",
    "        self.scl = scl\n",
    "        self.sda = sda\n",
    "        self.frequency=frequency\n",
    "        super().__init__(scl, sda, frequency=frequency, timeout=10000)\n",
    "        self.bosmang = bosmang\n",
    "        \"\"\"PPDevice hostname selected to recieve datetime from, send control instructions,\n",
    "        have UART connected, etc.\"\"\"\n",
    "        self.UART_RX = UART_RX\n",
    "        \"\"\"board pin RX for passthru from bosmang\"\"\"\n",
    "        self.UART_TX = UART_TX\n",
    "        \"\"\"board pin TX for passthru from bosmang\"\"\"\n",
    "        \n",
    "        self.devices = []\n",
    "        self.noident = []\n",
    "        self.othrdev = []\n",
    "        \n",
    "        self.datetime = 0\n",
    "        \"\"\"future use for receiving datetime from bosmang\"\"\"\n",
    "\n",
    "    def addDevice(self, *args):\n",
    "        self.devices.append(PPDevice(i2c=self,device_address=args[0]))\n",
    "\n",
    "\n",
    "    def scanForNew(self):\n",
    "        while not self.try_lock():\n",
    "            pass\n",
    "        for addr in self.scan():\n",
    "            if not any(d.device_address == addr \n",
    "                       for d in chain(self.devices,self.noident,self.othrdev)):\n",
    "                self.noident.append(PPDevice(i2c=self,device_address=addr))\n",
    "        self.unlock()\n",
    "                \n",
    "    def identifyNew(self):\n",
    "        for d in self.noident:\n",
    "            with d:\n",
    "                msg = bytearray(len(IDENTITY))\n",
    "                try:\n",
    "                    d.write_then_readinto(IDF,msg)\n",
    "                except:\n",
    "                    pass\n",
    "            if msg == IDENTITY:\n",
    "                self.devices.append(self.noident.pop(self.noident.index(d)))\n",
    "            else:\n",
    "                d.retries += 1\n",
    "                if d.retries >= poll_fail_max:\n",
    "                    self.othrdev.append(self.noident.pop(self.noident.index(d)))\n",
    "                \n",
    "    \n",
    "    def autoAddDevices(self):\n",
    "        scanForNew()\n",
    "        identifyNew()\n",
    "                \n",
    "    def listdevices(self):\n",
    "        return self.devices"
   ]
  },
  {
   "cell_type": "markdown",
   "metadata": {},
   "source": [
    "UART_RX # \n",
    "UART_TX # board pin TX for passthru for bosmang\n",
    "\n",
    "<code>\n",
    "    def operation(self):\n",
    "        for device in self._devices:\n",
    "            device.operation()\n",
    "</code>"
   ]
  },
  {
   "cell_type": "markdown",
   "metadata": {},
   "source": [
    "## Appendix"
   ]
  },
  {
   "cell_type": "code",
   "execution_count": null,
   "metadata": {},
   "outputs": [
    {
     "name": "stdout",
     "output_type": "stream",
     "text": [
      "Converted 00_core.ipynb.\n",
      "Converted index.ipynb.\n"
     ]
    }
   ],
   "source": [
    "from nbdev.export import notebook2script\n",
    "notebook2script()"
   ]
  }
 ],
 "metadata": {
  "kernelspec": {
   "display_name": "Python 3",
   "language": "python",
   "name": "python3"
  }
 },
 "nbformat": 4,
 "nbformat_minor": 2
}
