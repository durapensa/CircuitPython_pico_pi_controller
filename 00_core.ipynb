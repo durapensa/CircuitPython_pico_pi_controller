{
 "cells": [
  {
   "cell_type": "code",
   "execution_count": null,
   "metadata": {},
   "outputs": [],
   "source": [
    "# default_exp core"
   ]
  },
  {
   "cell_type": "markdown",
   "metadata": {},
   "source": [
    "# CircuitPython_pico_pi_controller\n",
    "\n",
    "> The `pico_pi_controller` module contains CircuitPython classes to manage multiple Raspberry Pi SBCs from a Raspberry Pi Pico, using i2c."
   ]
  },
  {
   "cell_type": "markdown",
   "metadata": {},
   "source": [
    "## About"
   ]
  },
  {
   "cell_type": "markdown",
   "metadata": {},
   "source": [
    "The classes in this module inherit from Adafruit's `busio` & `adafruit_bus_device` I2C classes for CircuitPython. `busio` is distributed with [CircuitPython](https://circuitpython.org), and `adafruit_bus_device` is distributed with the [CircuitPython Library Bundle](https://circuitpython.org/libraries).\n",
    "\n",
    "Broadcom SoC hardware I2C is utilized both for the controlling MCU (the Pico) and the controlled SBCs (Raspberry Pi 4/3+/Zero). I2C baudrate is limited from the controller (the Pico) to reduce transmit/receive errors."
   ]
  },
  {
   "cell_type": "markdown",
   "metadata": {},
   "source": [
    "Controller programs may be written with hard-coded I2C peripheral addresses of connected SBCs (called 'devices' by these classes). Or, autodiscovery may be used so that devices may be added without changing software on the controller.\n",
    "\n",
    "For example:"
   ]
  },
  {
   "cell_type": "markdown",
   "metadata": {},
   "source": [
    "<code>\n",
    "from pico_pi_controller import *\n",
    "    \n",
    "mycontroller = PPController()\n",
    "\n",
    "mycontroller.addDevice('0x13')\n",
    "mycontroller.listdevices()\n",
    "</code>"
   ]
  },
  {
   "cell_type": "markdown",
   "metadata": {},
   "source": [
    "This example will initialize I2C on the controller using the board defaults (I2C bus 1), retrieve host information & statistics from the SBC at I2C address 0x13, then return a list of device information."
   ]
  },
  {
   "cell_type": "markdown",
   "metadata": {},
   "source": [
    "## Module"
   ]
  },
  {
   "cell_type": "code",
   "execution_count": null,
   "metadata": {},
   "outputs": [],
   "source": [
    "#hide\n",
    "try:\n",
    "    from nbdev.showdoc import *\n",
    "except:\n",
    "    pass\n",
    "    \"\"\"CircuitPython kernel has no nbdev\"\"\""
   ]
  },
  {
   "cell_type": "code",
   "execution_count": null,
   "metadata": {},
   "outputs": [],
   "source": [
    "#export\n",
    "from sys import byteorder, modules\n",
    "from time import sleep, struct_time\n",
    "import board\n",
    "import busio\n",
    "from adafruit_bus_device import i2c_device\n",
    "try:\n",
    "    from rtc import RTC\n",
    "except:\n",
    "    pass\n",
    "try:\n",
    "    from adafruit_datetime import datetime\n",
    "except:\n",
    "    from datetime import datetime\n",
    "try:\n",
    "    from adafruit_itertools.adafruit_itertools import chain\n",
    "except:\n",
    "    from itertools import chain\n",
    "try:\n",
    "    import adafruit_logging as logging\n",
    "except:\n",
    "    import logging\n",
    "    \n",
    "\n",
    "try:\n",
    "    logger = logging.getLogger('PPC')\n",
    "except:\n",
    "    logger = logging.getLogger()\n",
    "logger.setLevel(logging.DEBUG)\n",
    "\n",
    "try:\n",
    "    logging.basicConfig(level = logging.DEBUG)\n",
    "except:\n",
    "    pass\n",
    "\n",
    "IDENTITY = bytearray(([ord(c) for c in list('ppc-daemon')]))\n",
    "\"\"\"identifier string used by RPi devices\"\"\"\n",
    "\n",
    "IDF = bytearray(); IDF.append(ord('I')) # request to send identification\n",
    "HOS = bytearray(); HOS.append(ord('H')) # request to send hostname\n",
    "LOD = bytearray(); LOD.append(ord('L')) # request to send load\n",
    "TIM = bytearray(); TIM.append(ord('T')) # request to send datetime\n",
    "PEN = bytearray(); PEN.append(ord('P')) # request to send MCU pin connected to RPi PEN"
   ]
  },
  {
   "cell_type": "code",
   "execution_count": null,
   "metadata": {},
   "outputs": [],
   "source": [
    "#export\n",
    "class PPDevice():\n",
    "    \"\"\"Represents an I2C peripheral device known to a `PPController`\n",
    "    and stores data from those peripherals identified as PPC devices.\"\"\"\n",
    "    def __init__(self, controller=None, device_address=None, *argv, **kwargs):\n",
    "        self.controller = controller\n",
    "        self.device_address = device_address\n",
    "        self.device=None\n",
    "        \n",
    "        self.retries = 0\n",
    "        self.retry_max = 10\n",
    "        \"\"\"retry count before I2CDevice is considered 'other', i.e. not a PPC device.\"\"\"\n",
    "        \n",
    "        \"\"\"All data below are received *from* the PPC device:\"\"\"\n",
    "        \n",
    "        self.bosmang = None\n",
    "        self.UART_RX = None\n",
    "        \"\"\"MCU GPIO RX for passthru from bosmang console TX\"\"\"\n",
    "        self.UART_TX = None\n",
    "        \"\"\"MCU GPIO TX for passthru from bosmang console RX\"\"\"\n",
    "        self.pen = None\n",
    "        \"\"\"MCU GPIO connected to RPi PEN pin\"\"\"\n",
    "\n",
    "        \n",
    "        self.hostname = None\n",
    "        self.load = \"\"\n",
    "        self.datetime = None\n",
    "        \"\"\"to send datetime as bosmang, and used to check for datetime skew\n",
    "           on other devices.\"\"\"\n",
    "        \n",
    "    def getHostname(self): \n",
    "        return self.hostname"
   ]
  },
  {
   "cell_type": "code",
   "execution_count": null,
   "metadata": {},
   "outputs": [],
   "source": [
    "#export\n",
    "class PPController():\n",
    "    \"\"\"Represents one of the system's I2C busses and tracks which I2C\n",
    "    peripherals are `PPDevice`s.\"\"\"\n",
    "    def __init__(self, scl=board.SCL, sda=board.SDA, frequency=4800, timeout=10000):\n",
    "        self.i2c = None\n",
    "        self.scl = scl\n",
    "        self.sda = sda\n",
    "        self.frequency=frequency\n",
    "        self.timeout=timeout\n",
    " \n",
    "        self.bosmang = None\n",
    "        \"\"\"PPDevice hostname selected to recieve datetime & control instructions from,\n",
    "           have UART connected for passthru, etc. Default is `None`.\"\"\"\n",
    "        \n",
    "        self.devices = []\n",
    "        self.noident = []\n",
    "        self.othrdev = []\n",
    "        \n",
    "        self.datetime = None\n",
    "        \"\"\"future use for receiving datetime from bosmang\"\"\"\n",
    "\n",
    "def scanForNew(controller):\n",
    "    if controller.i2c.try_lock():\n",
    "        logger.info(\"PPC: scanning I2C bus for PPController at SCL/SDA \"\n",
    "                    +str(controller.scl)+\"/\"+str(controller.sda))\n",
    "    else:\n",
    "        logger.info(\"PPC: I2C lock not avilable\")\n",
    "        return False\n",
    "    scan_addrs=controller.i2c.scan()\n",
    "    #controller.i2c.unlock()\n",
    "    for addr in scan_addrs:\n",
    "        if not any(d.device_address == addr for d in chain(controller.devices,controller.noident,controller.othrdev)):  \n",
    "            controller.noident.append(PPDevice(i2c=controller.i2c,device_address=addr))\n",
    "            with controller.i2c as i2c:\n",
    "                controller.noident[-1].device=i2c_device.I2CDevice(i2c,device_address=addr)\n",
    "            logger.info(\"PPC: added I2C peripheral object \"+str(hex(addr))+\" to PPController at SCL/SDA \"\n",
    "                        +str(controller.scl)+\"/\"+str(controller.sda))\n",
    "    controller.i2c.unlock()\n",
    "    return True\n",
    "                \n",
    "def identifyNew(controller):\n",
    "    for peripheral in controller.noident:\n",
    "        with peripheral.device as unident:\n",
    "            msg = bytearray(len(IDENTITY))\n",
    "            try:\n",
    "                unident.write_then_readinto(IDF,msg)\n",
    "            except:\n",
    "                pass\n",
    "            if msg == IDENTITY:\n",
    "                self.devices.append(self.noident.pop(self.noident.index(peripheral)))\n",
    "            else:\n",
    "                peripheral.retries += 1\n",
    "                if peripheral.retries >= peripheral.retries_max:\n",
    "                    self.othrdev.append(self.noident.pop(self.noident.index(peripheral)))\n",
    "                \n",
    "    \n",
    "def autoAddDevices(controller):\n",
    "    controller.i2c.scanForNew()\n",
    "    identifyNew(controller)\n",
    "                \n",
    "def listdevices(controller):\n",
    "    return controller.devices\n"
   ]
  },
  {
   "cell_type": "markdown",
   "metadata": {},
   "source": [
    "## Debugging\n",
    "\n",
    "```python\n",
    "con=PPController()\n",
    "con.i2c=busio.I2C(scl=con.scl,sda=con.sda,frequency=con.frequency)\n",
    "scanForNew(con)\n",
    "```"
   ]
  },
  {
   "cell_type": "code",
   "execution_count": null,
   "metadata": {},
   "outputs": [
    {
     "name": "stderr",
     "output_type": "stream",
     "text": [
      "INFO:PPC:PPC: scanning I2C bus for PPController at SCL/SDA 3/2\n"
     ]
    },
    {
     "name": "stdout",
     "output_type": "stream",
     "text": [
      "<busio.I2C object at 0x73d2a0f0>\n",
      "<busio.I2C object at 0x73d2a0f0>\n"
     ]
    }
   ],
   "source": [
    "try:\n",
    "    from CircuitPython_pico_pi_controller import *\n",
    "except:\n",
    "    pass\n",
    "\n",
    "con=PPController()\n",
    "con.i2c=busio.I2C(scl=con.scl,sda=con.sda,frequency=con.frequency)\n",
    "scanForNew(con)\n",
    "#identifyNew(con)\n",
    "\n",
    "#dev=PPDevice(con.i2c,0x13)\n",
    "#print(dir(dev))"
   ]
  },
  {
   "cell_type": "markdown",
   "metadata": {},
   "source": [
    "## Appendix"
   ]
  },
  {
   "cell_type": "code",
   "execution_count": null,
   "metadata": {},
   "outputs": [],
   "source": [
    "try:\n",
    "    from nbdev.export import notebook2script\n",
    "    notebook2script()\n",
    "except:\n",
    "    pass"
   ]
  },
  {
   "cell_type": "code",
   "execution_count": null,
   "metadata": {},
   "outputs": [],
   "source": []
  }
 ],
 "metadata": {
  "kernelspec": {
   "display_name": "Python 3",
   "language": "python",
   "name": "python3"
  }
 },
 "nbformat": 4,
 "nbformat_minor": 2
}
