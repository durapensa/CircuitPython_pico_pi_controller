{
 "cells": [
  {
   "cell_type": "code",
   "execution_count": null,
   "metadata": {},
   "outputs": [],
   "source": [
    "#hide\n",
    "from CircuitPython_pico_pi_controller.core import *"
   ]
  },
  {
   "cell_type": "markdown",
   "metadata": {},
   "source": [
    "# CircuitPython pico_pi_controller\n",
    "\n",
    "> A service interface for one or more Raspberry Pi\\* SBCs to be monitored & controlled by a Raspberry Pi Pico<sup>†</sup>, *using i2c*."
   ]
  },
  {
   "cell_type": "markdown",
   "metadata": {},
   "source": [
    "*Work in progress.* View the [docs](https://durapensa.github.io/CircuitPython_pico_pi_controller/docs/) and the [`ppc_dev_testing`](https://gist.github.com/durapensa/cb51c2cea3242ec9b37edee27eb5e8de) gist."
   ]
  },
  {
   "cell_type": "markdown",
   "metadata": {},
   "source": [
    "## Install"
   ]
  },
  {
   "cell_type": "markdown",
   "metadata": {},
   "source": [
    "See the [install guide](https://github.com/durapensa/pico_pi_controller/blob/main/README.md) at the sister-library for SBCs.\n",
    "\n",
    "Copy into `CIRCUITPY/lib`: \n",
    "\n",
    "Libraries from [CircuitPython Library Bundle](https://circuitpython.org/libraries):\n",
    "-. `adafruit_datetime.mpy`\n",
    "-. `adafruit_itertools`\n",
    "-. `adafruit_logging`\n",
    "\n",
    "Library [CircuitPython_uschedule](https://github.com/cognitivegears/CircuitPython_uschedule):\n",
    "-. `uschedule.py`\n",
    "\n",
    "Library [CircuitPython_pico_pi_controller](https://github.com/durapensa/CircuitPython_pico_pi_controller)\n",
    "-. `CircuitPython_pico_pi_controller`"
   ]
  },
  {
   "cell_type": "code",
   "execution_count": null,
   "metadata": {},
   "outputs": [],
   "source": []
  }
 ],
 "metadata": {
  "kernelspec": {
   "display_name": "Python 3",
   "language": "python",
   "name": "python3"
  }
 },
 "nbformat": 4,
 "nbformat_minor": 2
}
