{
 "cells": [
  {
   "cell_type": "code",
   "execution_count": null,
   "id": "contemporary-absence",
   "metadata": {},
   "outputs": [],
   "source": [
    "# default_exp persist"
   ]
  },
  {
   "cell_type": "markdown",
   "id": "threatened-change",
   "metadata": {},
   "source": [
    "# CircuitPython_pico_pi_controller.persist\n",
    "> PPDevice persistance for PPController"
   ]
  },
  {
   "cell_type": "code",
   "execution_count": null,
   "id": "organized-underwear",
   "metadata": {},
   "outputs": [],
   "source": [
    "# export\n",
    " \n",
    "import gc\n",
    "import json"
   ]
  },
  {
   "cell_type": "code",
   "execution_count": null,
   "id": "painted-customer",
   "metadata": {},
   "outputs": [],
   "source": [
    "# export\n",
    "\n",
    "# imported on-demand as PPController.persist, methods should be interpreted as static methods.\n",
    "\n",
    "@staticmethod\n",
    "def show_free(logger,id_str,i2c_str):\n",
    "    fname='show_free'\n",
    "    logger.info('%-6s %-27s %-9s %s' % (id_str, gc.mem_free() , fname, i2c_str))\n",
    "    \n",
    "@staticmethod\n",
    "def wrt_ppds(serial_ppds):\n",
    "    \"\"\"Saves PPDevice values to flash storage. Optional.\"\"\"\n",
    "    fname='wrt_ppds'\n",
    "    with open(\"/PPC.txt\", \"a\") as ppd_file:\n",
    "        json.dump(serial_ppds, ppd_file, indent = 8)\n",
    "    ppd_file.close()\n",
    "    "
   ]
  },
  {
   "cell_type": "code",
   "execution_count": null,
   "id": "detailed-bosnia",
   "metadata": {},
   "outputs": [
    {
     "data": {
      "application/javascript": [
       "IPython.notebook.save_checkpoint();"
      ],
      "text/plain": [
       "<IPython.core.display.Javascript object>"
      ]
     },
     "metadata": {},
     "output_type": "display_data"
    },
    {
     "name": "stdout",
     "output_type": "stream",
     "text": [
      "Converted 00_core.ipynb.\n",
      "Converted 10_schedule.ipynb.\n",
      "Converted 20_reports.ipynb.\n",
      "Converted 30_persist.ipynb.\n",
      "Converted index.ipynb.\n",
      "'CircuitPython_pico_pi_controller/persist.py' -> '/CIRCUITPY/lib/CircuitPython_pico_pi_controller/persist.py'\n"
     ]
    }
   ],
   "source": [
    "#hide\n",
    "try:\n",
    "    from IPython.display import display, Javascript\n",
    "    display(Javascript('IPython.notebook.save_checkpoint();'))\n",
    "    from time import sleep\n",
    "    sleep(0.2)\n",
    "    from nbdev.export import notebook2script\n",
    "    notebook2script()\n",
    "except ModuleNotFoundError:\n",
    "    pass\n",
    "    \"\"\"CircuitPython kernel has no nbdev\"\"\"\n",
    "\n",
    "!!echo -e \"\\x02\\x04\" | tee /dev/ttyACM0\n",
    "\n",
    "%cp -v CircuitPython_pico_pi_controller/persist.py /CIRCUITPY/lib/CircuitPython_pico_pi_controller/"
   ]
  }
 ],
 "metadata": {
  "kernelspec": {
   "display_name": "Python 3",
   "language": "python",
   "name": "python3"
  }
 },
 "nbformat": 4,
 "nbformat_minor": 5
}
