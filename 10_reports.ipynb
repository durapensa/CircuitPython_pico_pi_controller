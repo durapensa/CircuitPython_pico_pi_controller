{
 "cells": [
  {
   "cell_type": "code",
   "execution_count": null,
   "id": "contemporary-absence",
   "metadata": {},
   "outputs": [],
   "source": [
    "# default_exp CircuitPython_pico_pi_controller.reports"
   ]
  },
  {
   "cell_type": "code",
   "execution_count": null,
   "id": "painted-customer",
   "metadata": {},
   "outputs": [],
   "source": []
  }
 ],
 "metadata": {
  "kernelspec": {
   "display_name": "CircuitPython",
   "language": "python",
   "name": "circuitpython"
  }
 },
 "nbformat": 4,
 "nbformat_minor": 5
}
