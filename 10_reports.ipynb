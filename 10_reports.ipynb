{
 "cells": [
  {
   "cell_type": "code",
   "execution_count": null,
   "id": "contemporary-absence",
   "metadata": {},
   "outputs": [],
   "source": [
    "# default_exp reports"
   ]
  },
  {
   "cell_type": "code",
   "execution_count": null,
   "id": "painted-customer",
   "metadata": {},
   "outputs": [],
   "source": []
  }
 ],
 "metadata": {
  "kernelspec": {
   "display_name": "CircuitPython",
   "language": "python",
   "name": "circuitpython"
  }
 },
 "nbformat": 4,
 "nbformat_minor": 5
}
