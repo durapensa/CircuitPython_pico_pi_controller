{
 "cells": [
  {
   "cell_type": "code",
   "execution_count": null,
   "id": "contemporary-absence",
   "metadata": {},
   "outputs": [],
   "source": [
    "# default_exp reports"
   ]
  },
  {
   "cell_type": "markdown",
   "id": "threatened-change",
   "metadata": {},
   "source": [
    "# CircuitPython_pico_pi_controller.reports\n",
    "> Report generator Classes for CircuitPython_pico_pi_controller"
   ]
  },
  {
   "cell_type": "code",
   "execution_count": null,
   "id": "organized-underwear",
   "metadata": {},
   "outputs": [],
   "source": [
    "# export\n",
    "try:\n",
    "    from adafruit_datetime import datetime\n",
    "except ModuleNotFoundError:\n",
    "    from datetime import datetime\n",
    "try:\n",
    "    import adafruit_logging as logging\n",
    "    logger = logging.getLogger('PPC')\n",
    "    logger.setLevel(logging.DEBUG)\n",
    "    # Monkey patch the logger's timestamp\n",
    "    def format(self, level, msg):\n",
    "        return \"{0}: {1} - {2}\".format(datetime.now().isoformat(), logging.level_for(level), msg)    \n",
    "    logging.LoggingHandler.format = format\n",
    "except ModuleNotFoundError:\n",
    "    import logging\n",
    "    logger = logging.getLogger()\n",
    "    logging.basicConfig(level = logging.DEBUG)\n",
    "    \n",
    "from CircuitPython_pico_pi_common.codes import *"
   ]
  },
  {
   "cell_type": "code",
   "execution_count": null,
   "id": "painted-customer",
   "metadata": {},
   "outputs": [],
   "source": [
    "# export\n",
    "stats_struct = { }\n",
    "\n",
    "for property_name, common_name in REP_CLI_CATALOG:\n",
    "    stats_struct[property_name]=None\n",
    "\n",
    "class ReportData():\n",
    "    \"\"\"Instances hold report data for PPDevices. Using this class,\n",
    "       reports can be generated at any time without querrying PPDevices,\n",
    "       limited only by available memory.\n",
    "       Note that hosthame, mcu_uid & ppc_i2c_str are sent to bosmang separately\n",
    "       as they have variable lengths, and thus are omitted from the stats_struct\n",
    "       when sent but re-incorporated after the truncated stats_struct is\n",
    "       received.\"\"\"\n",
    "    def __init__(self, ppds):\n",
    "        self.ppds  = ppds\n",
    "        self.stats = []\n",
    "        \n",
    "    def log_txn(self, fname, message, hexaddr=None, msg=None, i2c_str=None):\n",
    "        \"\"\"Wrapper for logger.\"\"\"\n",
    "        id_str = type(self).__name__[0]+\" \"+str(hexaddr or '    ')\n",
    "        logger.info('%-6s %-27s %-9s %s' % (id_str, message+str(msg or ''), fname, i2c_str))\n",
    "\n",
    "    def get_stat(self):\n",
    "        fname='get_stat'\n",
    "        for ppd in self.ppds:\n",
    "            if not any(d.device_address == ppd.device_address for d in self.stats):\n",
    "                dstats = stats_struct\n",
    "                dstats['ppc_i2c_str']    = ppd.controller.i2c_str\n",
    "                dstats['device_address'] = ppd.device_address\n",
    "                dstats['hostname']       = ppd.hostname\n",
    "                dstats['lastonline']     = ppd.lastonline\n",
    "                dstats['loadavg']        = ppd.loadavg\n",
    "                dstats['uptime']         = ppd.uptime\n",
    "                dstats['bosmang']        = ppd.bosmang\n",
    "                dstats['utcoffset']      = ppd.utcoffset\n",
    "                self.stats.append(dstats)\n",
    "                self.log_txn(fname,\"gathered stats\",hex(ppd.device_address),'',ppd.controller.i2c_str)"
   ]
  },
  {
   "cell_type": "code",
   "execution_count": null,
   "id": "detailed-bosnia",
   "metadata": {},
   "outputs": [
    {
     "data": {
      "application/javascript": [
       "IPython.notebook.save_checkpoint();"
      ],
      "text/plain": [
       "<IPython.core.display.Javascript object>"
      ]
     },
     "metadata": {},
     "output_type": "display_data"
    },
    {
     "name": "stdout",
     "output_type": "stream",
     "text": [
      "Converted 00_core.ipynb.\n",
      "Converted 01_codes.ipynb.\n",
      "Converted 10_schedule.ipynb.\n",
      "Converted 20_reports.ipynb.\n",
      "Converted index.ipynb.\n",
      "'CircuitPython_pico_pi_controller/reports.py' -> '/CIRCUITPY/lib/CircuitPython_pico_pi_controller/reports.py'\n"
     ]
    }
   ],
   "source": [
    "#hide\n",
    "try:\n",
    "    from IPython.display import display, Javascript\n",
    "    display(Javascript('IPython.notebook.save_checkpoint();'))\n",
    "    from time import sleep\n",
    "    sleep(0.2)\n",
    "    from nbdev.export import notebook2script\n",
    "    notebook2script()\n",
    "except ModuleNotFoundError:\n",
    "    pass\n",
    "    \"\"\"CircuitPython kernel has no nbdev\"\"\"\n",
    "\n",
    "!!echo -e \"\\x02\\x04\" | tee /dev/ttyACM0\n",
    "\n",
    "%cp -v CircuitPython_pico_pi_controller/reports.py /CIRCUITPY/lib/CircuitPython_pico_pi_controller/"
   ]
  }
 ],
 "metadata": {
  "kernelspec": {
   "display_name": "Python 3",
   "language": "python",
   "name": "python3"
  }
 },
 "nbformat": 4,
 "nbformat_minor": 5
}
