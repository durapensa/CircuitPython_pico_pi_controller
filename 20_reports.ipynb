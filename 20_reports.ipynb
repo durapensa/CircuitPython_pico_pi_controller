{
 "cells": [
  {
   "cell_type": "code",
   "execution_count": null,
   "id": "contemporary-absence",
   "metadata": {},
   "outputs": [],
   "source": [
    "# default_exp reports"
   ]
  },
  {
   "cell_type": "code",
   "execution_count": null,
   "id": "painted-customer",
   "metadata": {},
   "outputs": [],
   "source": [
    "stats = { 'hostname'   : None,\n",
    "          'lastonline' : None,\n",
    "          'loadavg'    : None,\n",
    "          'bosmang'    : None,\n",
    "          'utcoffset'  : None,\n",
    "          '' : None,\n",
    "          '' : None,\n",
    "          '' : None }\n",
    "\n",
    "class ReportData():\n",
    "    \"\"\"Gathers report data for PPDevices belonging to a specific PPController\"\"\"\n",
    "    def __init__(self, **kwargs):\n",
    "        self.controller = kwargs.pop('controller', None)\n",
    "        self.PPDs = kwargs.pop('ppds', None)\n",
    "        \n"
   ]
  },
  {
   "cell_type": "code",
   "execution_count": null,
   "id": "waiting-blond",
   "metadata": {},
   "outputs": [],
   "source": []
  }
 ],
 "metadata": {
  "kernelspec": {
   "display_name": "Python 3",
   "language": "python",
   "name": "python3"
  }
 },
 "nbformat": 4,
 "nbformat_minor": 5
}
